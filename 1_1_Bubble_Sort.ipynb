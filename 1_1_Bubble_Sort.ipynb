{
  "nbformat": 4,
  "nbformat_minor": 0,
  "metadata": {
    "colab": {
      "provenance": []
    },
    "kernelspec": {
      "name": "python3",
      "display_name": "Python 3"
    },
    "language_info": {
      "name": "python"
    }
  },
  "cells": [
    {
      "cell_type": "code",
      "execution_count": 13,
      "metadata": {
        "id": "3ucWrLA9tVOd"
      },
      "outputs": [],
      "source": [
        "A = [6,1,2,3,8,4,7,5]"
      ]
    },
    {
      "cell_type": "code",
      "source": [
        "def Bubble_Sort (A):\n",
        "  for i in range (1,len(A)):\n",
        "    for j in range (0,len(A)-1):\n",
        "      if A[j]>A[j+1]:\n",
        "        A[j],A[j+1] = A[j+1],A[j]\n",
        "  return A"
      ],
      "metadata": {
        "id": "MUeHd0O-Vy1O"
      },
      "execution_count": 14,
      "outputs": []
    },
    {
      "cell_type": "code",
      "source": [
        "A = Bubble_Sort(A)\n",
        "print(A)"
      ],
      "metadata": {
        "colab": {
          "base_uri": "https://localhost:8080/"
        },
        "id": "ZpxFcup9bY9A",
        "outputId": "5beb7d2e-6e78-4a39-e17b-e98d36d514ea"
      },
      "execution_count": 16,
      "outputs": [
        {
          "output_type": "stream",
          "name": "stdout",
          "text": [
            "[1, 2, 3, 4, 5, 6, 7, 8]\n"
          ]
        }
      ]
    }
  ]
}