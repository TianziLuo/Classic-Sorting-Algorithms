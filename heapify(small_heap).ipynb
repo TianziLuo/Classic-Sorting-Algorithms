{
  "nbformat": 4,
  "nbformat_minor": 0,
  "metadata": {
    "colab": {
      "provenance": [],
      "authorship_tag": "ABX9TyPHH2pwtL9F9IxnJU/g5gGs",
      "include_colab_link": true
    },
    "kernelspec": {
      "name": "python3",
      "display_name": "Python 3"
    },
    "language_info": {
      "name": "python"
    }
  },
  "cells": [
    {
      "cell_type": "markdown",
      "metadata": {
        "id": "view-in-github",
        "colab_type": "text"
      },
      "source": [
        "<a href=\"https://colab.research.google.com/github/TianziLuo/Classic-Sorting-Algorithms/blob/main/heapify(small_heap).ipynb\" target=\"_parent\"><img src=\"https://colab.research.google.com/assets/colab-badge.svg\" alt=\"Open In Colab\"/></a>"
      ]
    },
    {
      "cell_type": "code",
      "execution_count": null,
      "metadata": {
        "id": "7T6U-gbNEBNX"
      },
      "outputs": [],
      "source": [
        "\n",
        "def smallheapify (array,i,l):\n",
        "  smallest = i\n",
        "  left = 2*i+1\n",
        "  right = 2*i+2\n",
        "  #print(smallest)\n",
        "  #print(l)\n",
        "  #print(left)\n",
        "  #print(right)\n",
        "  if left < l and array[left]<array[smallest]:\n",
        "    smallest = left\n",
        "  #print(smallest)\n",
        "  if right < l and array[right]<array[smallest]:\n",
        "    smallest = right\n",
        "  #print(smallest)\n",
        "  if i != smallest:\n",
        "    array[i],array[smallest] = array[smallest],array[i]\n",
        "    smallheapify(array,smallest,l)\n",
        "  return array\n"
      ]
    },
    {
      "cell_type": "code",
      "source": [
        "def buildheap (array,l):\n",
        "  for i in range (len(array)//2-1,-1,-1):\n",
        "    #print(i)\n",
        "    #print(l)\n",
        "    smallheapify(array,i,l)"
      ],
      "metadata": {
        "id": "t9jBpZXaJ7jr"
      },
      "execution_count": null,
      "outputs": []
    },
    {
      "cell_type": "code",
      "source": [
        "def Sort (array):\n",
        "  global l\n",
        "  l = len(array)\n",
        "  print(l)\n",
        "  buildheap(array,l)\n",
        "  print(array)\n",
        "  #print(array)\n",
        "  while l > 0:\n",
        "    array[l-1],array[0] = array[0],array[l-1]\n",
        "    l -= 1\n",
        "    print(l)\n",
        "    smallheapify(array,0,l)\n",
        "    print(array)\n",
        "  return array[::-1]"
      ],
      "metadata": {
        "id": "WFXynMH_MLMy"
      },
      "execution_count": null,
      "outputs": []
    },
    {
      "cell_type": "code",
      "source": [
        "A = [3,2,8,5,7,1,4,9,6,11]\n",
        "#len(A)\n",
        "A = Sort(A)\n",
        "print(A)"
      ],
      "metadata": {
        "colab": {
          "base_uri": "https://localhost:8080/"
        },
        "id": "ddGgaDBDRNog",
        "outputId": "dc40e231-4246-4215-ce37-0def73a7ff59"
      },
      "execution_count": null,
      "outputs": [
        {
          "output_type": "stream",
          "name": "stdout",
          "text": [
            "10\n",
            "[1, 2, 3, 5, 7, 8, 4, 9, 6, 11]\n",
            "9\n",
            "[2, 5, 3, 6, 7, 8, 4, 9, 11, 1]\n",
            "8\n",
            "[3, 5, 4, 6, 7, 8, 11, 9, 2, 1]\n",
            "7\n",
            "[4, 5, 8, 6, 7, 9, 11, 3, 2, 1]\n",
            "6\n",
            "[5, 6, 8, 11, 7, 9, 4, 3, 2, 1]\n",
            "5\n",
            "[6, 7, 8, 11, 9, 5, 4, 3, 2, 1]\n",
            "4\n",
            "[7, 9, 8, 11, 6, 5, 4, 3, 2, 1]\n",
            "3\n",
            "[8, 9, 11, 7, 6, 5, 4, 3, 2, 1]\n",
            "2\n",
            "[9, 11, 8, 7, 6, 5, 4, 3, 2, 1]\n",
            "1\n",
            "[11, 9, 8, 7, 6, 5, 4, 3, 2, 1]\n",
            "0\n",
            "[11, 9, 8, 7, 6, 5, 4, 3, 2, 1]\n",
            "[1, 2, 3, 4, 5, 6, 7, 8, 9, 11]\n"
          ]
        }
      ]
    },
    {
      "cell_type": "code",
      "source": [],
      "metadata": {
        "id": "c1JCMqSIUmM2"
      },
      "execution_count": null,
      "outputs": []
    }
  ]
}