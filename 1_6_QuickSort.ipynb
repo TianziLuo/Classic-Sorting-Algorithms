{
  "nbformat": 4,
  "nbformat_minor": 0,
  "metadata": {
    "colab": {
      "provenance": [],
      "include_colab_link": true
    },
    "kernelspec": {
      "name": "python3",
      "display_name": "Python 3"
    },
    "language_info": {
      "name": "python"
    }
  },
  "cells": [
    {
      "cell_type": "markdown",
      "metadata": {
        "id": "view-in-github",
        "colab_type": "text"
      },
      "source": [
        "<a href=\"https://colab.research.google.com/github/TianziLuo/Classic-Sorting-Algorithms/blob/main/1_6_QuickSort.ipynb\" target=\"_parent\"><img src=\"https://colab.research.google.com/assets/colab-badge.svg\" alt=\"Open In Colab\"/></a>"
      ]
    },
    {
      "cell_type": "markdown",
      "source": [
        "out_place"
      ],
      "metadata": {
        "id": "TVOmaybwmVlh"
      }
    },
    {
      "cell_type": "code",
      "execution_count": null,
      "metadata": {
        "id": "0x7ibO7Meh_b"
      },
      "outputs": [],
      "source": [
        "def qsort(array):\n",
        "  if len(array) < 2:\n",
        "    return array\n",
        "  else:\n",
        "    pivot = array[0]\n",
        "    smaller = []\n",
        "    equal = []\n",
        "    greater = []\n",
        "    for i in array:\n",
        "      if i < pivot:\n",
        "        smaller.append(i)\n",
        "      elif i > pivot:\n",
        "        greater.append(i)\n",
        "      else: \n",
        "        equal.append(i)\n",
        "    return qsort(smaller)+equal+qsort(greater)\n",
        "  \n",
        "  "
      ]
    },
    {
      "cell_type": "code",
      "source": [
        "A = [3,2,8,5,7,1]\n",
        "A = qsort(A)\n",
        "print(A)"
      ],
      "metadata": {
        "colab": {
          "base_uri": "https://localhost:8080/"
        },
        "id": "eyDTfYiikTWq",
        "outputId": "cc49253c-d6c6-41f9-f1ce-95d03d5b327d"
      },
      "execution_count": null,
      "outputs": [
        {
          "output_type": "stream",
          "name": "stdout",
          "text": [
            "[1, 2, 3, 5, 7, 8]\n"
          ]
        }
      ]
    },
    {
      "cell_type": "markdown",
      "source": [
        "In_place:"
      ],
      "metadata": {
        "id": "ZujqGq-bmZaf"
      }
    },
    {
      "cell_type": "code",
      "source": [
        "'''\n",
        "def QuickSort(array):\n",
        "  if len(array) == 1:\n",
        "    return array\n",
        "  elif len(array) == 2:\n",
        "    if array[0]>array[1]:\n",
        "      array[0],array[1]=array[1],array[0]\n",
        "      return array\n",
        "    else:\n",
        "      return array\n",
        "  else:\n",
        "    pivot = array[0]\n",
        "    pivotidex = 0\n",
        "    L = 1\n",
        "    R = len(array)-1\n",
        "    while array[L]<pivot:\n",
        "      L += 1\n",
        "    while array[R]>pivot:\n",
        "      R -= 1\n",
        "    while array[L]>pivot and array[R]<pivot:\n",
        "      if L<R:\n",
        "        array[L],array[R]=array[R],array[L]\n",
        "      elif R>L:\n",
        "        array[0],array[R] = array[R],array[0]\n",
        "    return array\n",
        "'''"
      ],
      "metadata": {
        "id": "8UPUB6GemTql",
        "colab": {
          "base_uri": "https://localhost:8080/",
          "height": 72
        },
        "outputId": "2ca5cd11-e28c-4926-b69a-a0028c23dc2f"
      },
      "execution_count": null,
      "outputs": [
        {
          "output_type": "execute_result",
          "data": {
            "text/plain": [
              "'\\ndef QuickSort(array):\\n  if len(array) == 1:\\n    return array\\n  elif len(array) == 2:\\n    if array[0]>array[1]:\\n      array[0],array[1]=array[1],array[0]\\n      return array\\n    else:\\n      return array\\n  else:\\n    pivot = array[0]\\n    pivotidex = 0\\n    L = 1\\n    R = len(array)-1\\n    while array[L]<pivot:\\n      L += 1\\n    while array[R]>pivot:\\n      R -= 1\\n    while array[L]>pivot and array[R]<pivot:\\n      if L<R:\\n        array[L],array[R]=array[R],array[L]\\n      elif R>L:\\n        array[0],array[R] = array[R],array[0]\\n    return array\\n'"
            ],
            "application/vnd.google.colaboratory.intrinsic+json": {
              "type": "string"
            }
          },
          "metadata": {},
          "execution_count": 34
        }
      ]
    },
    {
      "cell_type": "code",
      "source": [
        "import sys\n",
        "sys.setrecursionlimit(10000)"
      ],
      "metadata": {
        "id": "jkPjztnXymsO"
      },
      "execution_count": null,
      "outputs": []
    },
    {
      "cell_type": "code",
      "source": [
        "def sort (array,left,right):\n",
        "  pivot = array[left]\n",
        "  greater = left + 1\n",
        "  smaller = greater\n",
        "  while smaller <= right:\n",
        "    if array[smaller] < pivot:\n",
        "      array[smaller],array[greater] = array[greater], array[smaller]\n",
        "      greater += 1\n",
        "    smaller += 1\n",
        "  array[left],array[greater-1] = array[greater-1],array[left]\n",
        "  return greater-1 \n",
        "  ## pivot's index"
      ],
      "metadata": {
        "id": "4HbgS2PDjAnN"
      },
      "execution_count": null,
      "outputs": []
    },
    {
      "cell_type": "code",
      "source": [
        "def QuickSort (array, left=None, right=None):\n",
        "  if isinstance(left,(int, float))==False:\n",
        "    left = 0\n",
        "  else:\n",
        "    left\n",
        "  if isinstance(right,(int,float))==False:\n",
        "    right = len(array)-1\n",
        "  else:\n",
        "    right\n",
        "  if left < right:\n",
        "    pivotindex = sort(array,left,right)\n",
        "    print(array,left,pivotindex,right)\n",
        "    QuickSort(array,left,pivotindex-1)\n",
        "    QuickSort(array,pivotindex+1,right)\n",
        "  return array"
      ],
      "metadata": {
        "id": "jsNT3owxoAXW"
      },
      "execution_count": null,
      "outputs": []
    },
    {
      "cell_type": "code",
      "source": [
        "A = [4,1,2,9,7,3,11,8]\n",
        "A = QuickSort(A)\n",
        "print(A)"
      ],
      "metadata": {
        "colab": {
          "base_uri": "https://localhost:8080/"
        },
        "id": "nV8Wh0awujlu",
        "outputId": "1b953929-bbcb-4703-8c3a-7339dd7d24ae"
      },
      "execution_count": null,
      "outputs": [
        {
          "output_type": "stream",
          "name": "stdout",
          "text": [
            "[3, 1, 2, 4, 7, 9, 11, 8] 0 3 7\n",
            "[2, 1, 3, 4, 7, 9, 11, 8] 0 2 2\n",
            "[1, 2, 3, 4, 7, 9, 11, 8] 0 1 1\n",
            "[1, 2, 3, 4, 7, 9, 11, 8] 4 4 7\n",
            "[1, 2, 3, 4, 7, 8, 9, 11] 5 6 7\n",
            "[1, 2, 3, 4, 7, 8, 9, 11]\n"
          ]
        }
      ]
    }
  ]
}