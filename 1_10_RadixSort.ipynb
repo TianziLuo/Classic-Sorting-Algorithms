{
  "nbformat": 4,
  "nbformat_minor": 0,
  "metadata": {
    "colab": {
      "provenance": [],
      "authorship_tag": "ABX9TyMfifq/5VHnDb1oMseG6uGZ",
      "include_colab_link": true
    },
    "kernelspec": {
      "name": "python3",
      "display_name": "Python 3"
    },
    "language_info": {
      "name": "python"
    }
  },
  "cells": [
    {
      "cell_type": "markdown",
      "metadata": {
        "id": "view-in-github",
        "colab_type": "text"
      },
      "source": [
        "<a href=\"https://colab.research.google.com/github/TianziLuo/Classic-Sorting-Algorithms/blob/main/1_10_RadixSort.ipynb\" target=\"_parent\"><img src=\"https://colab.research.google.com/assets/colab-badge.svg\" alt=\"Open In Colab\"/></a>"
      ]
    },
    {
      "cell_type": "code",
      "source": [
        "print(1 % 10)"
      ],
      "metadata": {
        "colab": {
          "base_uri": "https://localhost:8080/"
        },
        "id": "b95GJoaimjui",
        "outputId": "5439e5f0-78e8-4c10-b139-6e1e501c369a"
      },
      "execution_count": 2,
      "outputs": [
        {
          "output_type": "stream",
          "name": "stdout",
          "text": [
            "1\n"
          ]
        }
      ]
    },
    {
      "cell_type": "code",
      "source": [
        "A = [[2],[3],[4]]\n",
        "A.clear()\n",
        "print(A)"
      ],
      "metadata": {
        "colab": {
          "base_uri": "https://localhost:8080/"
        },
        "id": "ncdW5_QF1XyN",
        "outputId": "2bd2260c-a3de-4a85-a5c6-cf3361aa629e"
      },
      "execution_count": 14,
      "outputs": [
        {
          "output_type": "stream",
          "name": "stdout",
          "text": [
            "[]\n"
          ]
        }
      ]
    },
    {
      "cell_type": "code",
      "execution_count": 58,
      "metadata": {
        "id": "50HvOpsAjzbC"
      },
      "outputs": [],
      "source": [
        "def RadixSort (array,L):\n",
        "  buckets = []\n",
        "  numbers = 10 ##0-9\n",
        "  #print(L)\n",
        "  for h in range(L):\n",
        "    Index = 0\n",
        "    buckets.clear()\n",
        "    for i in range (10):\n",
        "     buckets.append([])\n",
        "    #print(buckets)\n",
        "    for j in array:\n",
        "      mod = int((j/pow(10,h))%10)\n",
        "      #print(mod)\n",
        "      buckets[mod].append(j)\n",
        "    #print(buckets)\n",
        "    for i in range (10):\n",
        "      l = len(buckets[i])\n",
        "      k = 0\n",
        "      while l != 0:\n",
        "          array[Index] = buckets[i][k]\n",
        "          l -= 1\n",
        "          Index += 1\n",
        "          k += 1\n",
        "    #print(array)\n",
        "  return array\n",
        "  \n",
        "  #print(buckets)"
      ]
    },
    {
      "cell_type": "code",
      "source": [
        "import numpy as np\n",
        "import math\n",
        "A = [3,19,27,23,56,89,12,84,40,26,64,38,29,21,45,70,101,205,8,1082]\n",
        "Max = np.max(A)\n",
        "L = int(math.log(Max,10))+1\n",
        "A = RadixSort(A,L)\n",
        "print(A)"
      ],
      "metadata": {
        "colab": {
          "base_uri": "https://localhost:8080/"
        },
        "id": "3DWvF08Fn3Y4",
        "outputId": "275e6701-4258-4b64-9627-e8473b946e0b"
      },
      "execution_count": 59,
      "outputs": [
        {
          "output_type": "stream",
          "name": "stdout",
          "text": [
            "[3, 8, 12, 19, 21, 23, 26, 27, 29, 38, 40, 45, 56, 64, 70, 84, 89, 101, 205, 1082]\n"
          ]
        }
      ]
    }
  ]
}