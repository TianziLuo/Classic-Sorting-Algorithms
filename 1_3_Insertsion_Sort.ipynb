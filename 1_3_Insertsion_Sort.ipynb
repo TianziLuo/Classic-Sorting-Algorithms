{
  "nbformat": 4,
  "nbformat_minor": 0,
  "metadata": {
    "colab": {
      "provenance": []
    },
    "kernelspec": {
      "name": "python3",
      "display_name": "Python 3"
    },
    "language_info": {
      "name": "python"
    }
  },
  "cells": [
    {
      "cell_type": "code",
      "execution_count": null,
      "metadata": {
        "id": "Qm_OanEs7a7Y"
      },
      "outputs": [],
      "source": [
        "import numpy as np"
      ]
    },
    {
      "cell_type": "code",
      "source": [
        "A = [9,7,2,6,5,4,3,1]\n",
        "A = np.array(A)\n",
        "#print(type(A))\n",
        "n = len(A)\n",
        "print(A[2])"
      ],
      "metadata": {
        "colab": {
          "base_uri": "https://localhost:8080/"
        },
        "id": "NHmsxq_27hhr",
        "outputId": "2dfbba7f-df5f-4460-b33b-ab3a0723f002"
      },
      "execution_count": null,
      "outputs": [
        {
          "output_type": "stream",
          "name": "stdout",
          "text": [
            "2\n"
          ]
        }
      ]
    },
    {
      "cell_type": "code",
      "source": [
        "def Insertion_Sort (A,n):\n",
        "  for j in range(1,n):\n",
        "    key = A[j]\n",
        "    i = j-1\n",
        "    #Comparing\n",
        "    while A[i] > key and i >= 0:   \n",
        "      A[i+1]=A[i]\n",
        "      i = i-1\n",
        "    #Switch\n",
        "    A[i+1] = key\n",
        "  return A"
      ],
      "metadata": {
        "id": "-OxI39QK9flb"
      },
      "execution_count": null,
      "outputs": []
    },
    {
      "cell_type": "code",
      "source": [
        "A = Insertion_Sort(A, n)\n",
        "print(A)"
      ],
      "metadata": {
        "colab": {
          "base_uri": "https://localhost:8080/"
        },
        "id": "Akaxegtx-SCY",
        "outputId": "9d8d4155-1020-4702-cf08-fa151edfeea4"
      },
      "execution_count": null,
      "outputs": [
        {
          "output_type": "stream",
          "name": "stdout",
          "text": [
            "[1 2 3 4 5 6 7 9]\n"
          ]
        }
      ]
    }
  ]
}