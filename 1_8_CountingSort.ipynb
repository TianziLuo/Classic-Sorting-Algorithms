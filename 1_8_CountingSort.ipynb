{
  "nbformat": 4,
  "nbformat_minor": 0,
  "metadata": {
    "colab": {
      "provenance": [],
      "authorship_tag": "ABX9TyPlIVTL9MTISGLi4wlgitIl",
      "include_colab_link": true
    },
    "kernelspec": {
      "name": "python3",
      "display_name": "Python 3"
    },
    "language_info": {
      "name": "python"
    }
  },
  "cells": [
    {
      "cell_type": "markdown",
      "metadata": {
        "id": "view-in-github",
        "colab_type": "text"
      },
      "source": [
        "<a href=\"https://colab.research.google.com/github/TianziLuo/Classic-Sorting-Algorithms/blob/main/1_8_CountingSort.ipynb\" target=\"_parent\"><img src=\"https://colab.research.google.com/assets/colab-badge.svg\" alt=\"Open In Colab\"/></a>"
      ]
    },
    {
      "cell_type": "code",
      "execution_count": 5,
      "metadata": {
        "id": "TQf41lxFHAf6"
      },
      "outputs": [],
      "source": [
        "def CountingSort (array,Max):\n",
        "  bucketlen = Max+1\n",
        "  bucket = [0]*bucketlen\n",
        "  arrayindex = 0\n",
        "  for i in array:\n",
        "    bucket[i] += 1\n",
        "  for j in range(bucketlen):\n",
        "    while bucket[j] != 0:\n",
        "      array[arrayindex] = j\n",
        "      arrayindex += 1\n",
        "      bucket[j] -= 1\n",
        "  return array\n",
        "\n",
        "\n"
      ]
    },
    {
      "cell_type": "code",
      "source": [
        "import numpy as np\n",
        "A = [2,1,4,0,9,0,1,1,5,6,3,7,11,49]\n",
        "Max = np.max(A)\n",
        "#print(Max)\n",
        "A = CountingSort(A,Max)\n",
        "print(A)"
      ],
      "metadata": {
        "colab": {
          "base_uri": "https://localhost:8080/"
        },
        "id": "xl1mbjBKRNuc",
        "outputId": "4a4fdd26-f454-4d3a-ed41-8b5fe1fd3306"
      },
      "execution_count": 8,
      "outputs": [
        {
          "output_type": "stream",
          "name": "stdout",
          "text": [
            "[0, 0, 1, 1, 1, 2, 3, 4, 5, 6, 7, 9, 11, 49]\n"
          ]
        }
      ]
    },
    {
      "cell_type": "code",
      "source": [
        "bucketlen = 10\n",
        "bucket = [0]*bucketlen\n",
        "arrayindex = 0\n",
        "print(bucket)"
      ],
      "metadata": {
        "colab": {
          "base_uri": "https://localhost:8080/"
        },
        "id": "VRpps5dRMVqZ",
        "outputId": "de5481e4-8c7a-4d4d-b689-05c2b58c18dd"
      },
      "execution_count": 1,
      "outputs": [
        {
          "output_type": "stream",
          "name": "stdout",
          "text": [
            "[0, 0, 0, 0, 0, 0, 0, 0, 0, 0]\n"
          ]
        }
      ]
    }
  ]
}