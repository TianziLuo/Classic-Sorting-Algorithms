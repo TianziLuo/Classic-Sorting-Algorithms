{
  "nbformat": 4,
  "nbformat_minor": 0,
  "metadata": {
    "colab": {
      "provenance": [],
      "authorship_tag": "ABX9TyOQSpdFNT1j9Qgf2Zs/Apby",
      "include_colab_link": true
    },
    "kernelspec": {
      "name": "python3",
      "display_name": "Python 3"
    },
    "language_info": {
      "name": "python"
    }
  },
  "cells": [
    {
      "cell_type": "markdown",
      "metadata": {
        "id": "view-in-github",
        "colab_type": "text"
      },
      "source": [
        "<a href=\"https://colab.research.google.com/github/TianziLuo/Classic-Sorting-Algorithms/blob/main/1_9_BucketSort.ipynb\" target=\"_parent\"><img src=\"https://colab.research.google.com/assets/colab-badge.svg\" alt=\"Open In Colab\"/></a>"
      ]
    },
    {
      "cell_type": "code",
      "execution_count": 32,
      "metadata": {
        "id": "lJWI0rX1qybX"
      },
      "outputs": [],
      "source": [
        "def BucketSort (array):\n",
        "  buckets = []\n",
        "  number = 10\n",
        "  Index = 0\n",
        "  for i in range (number):\n",
        "    buckets.append([])\n",
        "  print('1 %s' %buckets)\n",
        "  for j in array:\n",
        "    index = j//10\n",
        "    buckets[index].append(j)\n",
        "  print('2 %s' %buckets)\n",
        "  for i in range (number):\n",
        "    buckets[i] = Sort(buckets[i])\n",
        "  print('3 %s' %buckets)  \n",
        "  for i in range(number):\n",
        "    l = len(buckets[i])\n",
        "    for k in range(l):\n",
        "      #print(buckets[i][k])\n",
        "      while l != 0:\n",
        "        array[Index] = buckets[i][k]\n",
        "        Index += 1\n",
        "        l -= 1\n",
        "  return array\n"
      ]
    },
    {
      "cell_type": "code",
      "source": [
        "def Sort (array):\n",
        "  l = len(array)\n",
        "  for i in range(l):\n",
        "    pre = i-1\n",
        "    current = array[i]\n",
        "    while pre >= 0 and array[pre] > current:\n",
        "      array[pre+1] = array[pre]\n",
        "      pre -= 1\n",
        "    array[pre+1] = current\n",
        "  return array\n"
      ],
      "metadata": {
        "id": "85XneVsgu_UX"
      },
      "execution_count": 33,
      "outputs": []
    },
    {
      "cell_type": "code",
      "source": [
        "A = [11,45,23,19,4,47,66,25,75,83,31,97,54,61,59,77,82]\n",
        "A = BucketSort(A)\n",
        "print(A)"
      ],
      "metadata": {
        "colab": {
          "base_uri": "https://localhost:8080/"
        },
        "id": "J6Kcv8-n0aLk",
        "outputId": "40066125-2a25-44a2-cbed-f30d3c33fed8"
      },
      "execution_count": 34,
      "outputs": [
        {
          "output_type": "stream",
          "name": "stdout",
          "text": [
            "1 [[], [], [], [], [], [], [], [], [], []]\n",
            "2 [[4], [11, 19], [23, 25], [31], [45, 47], [54, 59], [66, 61], [75, 77], [83, 82], [97]]\n",
            "3 [[4], [11, 19], [23, 25], [31], [45, 47], [54, 59], [61, 66], [75, 77], [82, 83], [97]]\n",
            "[4, 11, 11, 23, 23, 31, 45, 45, 54, 54, 61, 61, 75, 75, 82, 82, 97]\n"
          ]
        }
      ]
    },
    {
      "cell_type": "markdown",
      "source": [],
      "metadata": {
        "id": "lQMzjC360qFc"
      }
    },
    {
      "cell_type": "code",
      "source": [],
      "metadata": {
        "id": "66-UJlEC0qe0"
      },
      "execution_count": 34,
      "outputs": []
    }
  ]
}