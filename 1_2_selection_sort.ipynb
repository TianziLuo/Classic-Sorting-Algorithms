{
  "nbformat": 4,
  "nbformat_minor": 0,
  "metadata": {
    "colab": {
      "provenance": [],
      "include_colab_link": true
    },
    "kernelspec": {
      "name": "python3",
      "display_name": "Python 3"
    },
    "language_info": {
      "name": "python"
    }
  },
  "cells": [
    {
      "cell_type": "markdown",
      "metadata": {
        "id": "view-in-github",
        "colab_type": "text"
      },
      "source": [
        "<a href=\"https://colab.research.google.com/github/TianziLuo/Classic-Sorting-Algorithms/blob/main/1_2_selection_sort.ipynb\" target=\"_parent\"><img src=\"https://colab.research.google.com/assets/colab-badge.svg\" alt=\"Open In Colab\"/></a>"
      ]
    },
    {
      "cell_type": "code",
      "execution_count": 141,
      "metadata": {
        "id": "IqHKxzFZq1rj"
      },
      "outputs": [],
      "source": [
        "A = [3,7,1,4,9,2,5,11]"
      ]
    },
    {
      "cell_type": "code",
      "source": [
        "def Selection_Sort(A):\n",
        "  n = len(A)\n",
        "  for j in range(0,n):\n",
        "    temp = A[j]\n",
        "    #print(temp)\n",
        "    for i in range(j+1,n):\n",
        "      #print(A[i])\n",
        "      #print(temp)\n",
        "      if A[i]<temp:\n",
        "        swap = A[i]\n",
        "        A[i] = temp\n",
        "        temp = swap\n",
        "      #print(temp)\n",
        "    A[j] = temp\n",
        "  return A\n"
      ],
      "metadata": {
        "id": "TAHxZpkrq8uT"
      },
      "execution_count": 142,
      "outputs": []
    },
    {
      "cell_type": "code",
      "source": [
        "A = Selection_Sort(A)\n",
        "print(A)"
      ],
      "metadata": {
        "colab": {
          "base_uri": "https://localhost:8080/"
        },
        "id": "K7sbk0c0tkjY",
        "outputId": "1d62a30e-c475-4896-b981-94d9a3cf76e3"
      },
      "execution_count": 143,
      "outputs": [
        {
          "output_type": "stream",
          "name": "stdout",
          "text": [
            "[1, 2, 3, 4, 5, 7, 9, 11]\n"
          ]
        }
      ]
    },
    {
      "cell_type": "markdown",
      "source": [
        "Use index:"
      ],
      "metadata": {
        "id": "323rXwZQGvIA"
      }
    },
    {
      "cell_type": "code",
      "source": [
        "B = [3,2,8,5,7,1]"
      ],
      "metadata": {
        "id": "DuPOJrq2GzjZ"
      },
      "execution_count": 144,
      "outputs": []
    },
    {
      "cell_type": "code",
      "source": [
        "def selectionSort(B):\n",
        "  for i in range (len(B)-1):\n",
        "    index = i\n",
        "    for j in range (i+1, len(B)):\n",
        "      if B[j]<B[index]:\n",
        "        index = j\n",
        "        #print(index)\n",
        "    if i != index:\n",
        "      B[i],B[index] = B[index],B[i]\n",
        "  return B\n"
      ],
      "metadata": {
        "id": "aPW24t1EHQH3"
      },
      "execution_count": 145,
      "outputs": []
    },
    {
      "cell_type": "code",
      "source": [
        "B = selectionSort(B)\n",
        "print(B)"
      ],
      "metadata": {
        "colab": {
          "base_uri": "https://localhost:8080/"
        },
        "id": "6lfB-z5TNxiY",
        "outputId": "3a13b4eb-ada6-4220-8333-b6ef84f6435f"
      },
      "execution_count": 146,
      "outputs": [
        {
          "output_type": "stream",
          "name": "stdout",
          "text": [
            "1\n",
            "5\n",
            "3\n",
            "5\n",
            "[1, 2, 3, 5, 7, 8]\n"
          ]
        }
      ]
    }
  ]
}