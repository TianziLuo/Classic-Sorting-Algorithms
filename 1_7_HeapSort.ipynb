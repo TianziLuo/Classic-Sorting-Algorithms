{
  "nbformat": 4,
  "nbformat_minor": 0,
  "metadata": {
    "colab": {
      "provenance": [],
      "authorship_tag": "ABX9TyMHG23G3BbxTTXJACfKjpQo",
      "include_colab_link": true
    },
    "kernelspec": {
      "name": "python3",
      "display_name": "Python 3"
    },
    "language_info": {
      "name": "python"
    }
  },
  "cells": [
    {
      "cell_type": "markdown",
      "metadata": {
        "id": "view-in-github",
        "colab_type": "text"
      },
      "source": [
        "<a href=\"https://colab.research.google.com/github/TianziLuo/Classic-Sorting-Algorithms/blob/main/1_7_HeapSort.ipynb\" target=\"_parent\"><img src=\"https://colab.research.google.com/assets/colab-badge.svg\" alt=\"Open In Colab\"/></a>"
      ]
    },
    {
      "cell_type": "code",
      "execution_count": null,
      "metadata": {
        "id": "QndQNPuvsI98"
      },
      "outputs": [],
      "source": [
        "def MaxHeapify (array,i):\n",
        "  #print(array)\n",
        "  largest = i\n",
        "  left = 2*i+1\n",
        "  right = 2*i+2\n",
        "  if left < Len and array[left] > array[largest]:\n",
        "    largest = left\n",
        "  if right < Len and array[right] > array[largest]:\n",
        "    largest = right\n",
        "  \n",
        "  if i != largest:\n",
        "    array[largest], array[i] = array[i],array[largest]\n",
        "    MaxHeapify(array,largest)\n",
        "  print(array)\n"
      ]
    },
    {
      "cell_type": "code",
      "source": [
        "def MaxHeapBuilding (array):\n",
        "  for i in range((len(array)//2)-1,-1,-1):\n",
        "    MaxHeapify(array,i)"
      ],
      "metadata": {
        "id": "g3B6OxwKvU94"
      },
      "execution_count": null,
      "outputs": []
    },
    {
      "cell_type": "code",
      "source": [
        "def HeapSort (array):\n",
        "  global Len\n",
        "  Len = len(array)\n",
        "  #print(Len)\n",
        "  MaxHeapBuilding(array)\n",
        "  #print(array)\n",
        "  for j in range (len(array)-1,0,-1):\n",
        "    array[j],array[0] = array[0],array[j]\n",
        "    Len -= 1\n",
        "    print('iter:%s'%array)\n",
        "    #print(array[0:Len])\n",
        "    MaxHeapify(array,0)\n",
        "    #print(array[0:Len])\n",
        "    #print(MaxHeapify(array[0:Len],0))\n",
        "  return array\n"
      ],
      "metadata": {
        "id": "P55FkOUuwc8V"
      },
      "execution_count": null,
      "outputs": []
    },
    {
      "cell_type": "code",
      "source": [
        "A =[3,7,4,1,9,8,5]\n",
        "A = HeapSort(A)\n",
        "print(A)"
      ],
      "metadata": {
        "colab": {
          "base_uri": "https://localhost:8080/"
        },
        "id": "khuZ7-F1ylxE",
        "outputId": "1ba7147e-be68-46d6-9e81-d3ae284cb3cb"
      },
      "execution_count": null,
      "outputs": [
        {
          "output_type": "stream",
          "name": "stdout",
          "text": [
            "[3, 7, 8, 1, 9, 4, 5]\n",
            "[3, 7, 8, 1, 9, 4, 5]\n",
            "[3, 9, 8, 1, 7, 4, 5]\n",
            "[3, 9, 8, 1, 7, 4, 5]\n",
            "[9, 7, 8, 1, 3, 4, 5]\n",
            "[9, 7, 8, 1, 3, 4, 5]\n",
            "[9, 7, 8, 1, 3, 4, 5]\n",
            "iter:[5, 7, 8, 1, 3, 4, 9]\n",
            "[8, 7, 5, 1, 3, 4, 9]\n",
            "[8, 7, 5, 1, 3, 4, 9]\n",
            "iter:[4, 7, 5, 1, 3, 8, 9]\n",
            "[7, 4, 5, 1, 3, 8, 9]\n",
            "[7, 4, 5, 1, 3, 8, 9]\n",
            "iter:[3, 4, 5, 1, 7, 8, 9]\n",
            "[5, 4, 3, 1, 7, 8, 9]\n",
            "[5, 4, 3, 1, 7, 8, 9]\n",
            "iter:[1, 4, 3, 5, 7, 8, 9]\n",
            "[4, 1, 3, 5, 7, 8, 9]\n",
            "[4, 1, 3, 5, 7, 8, 9]\n",
            "iter:[3, 1, 4, 5, 7, 8, 9]\n",
            "[3, 1, 4, 5, 7, 8, 9]\n",
            "iter:[1, 3, 4, 5, 7, 8, 9]\n",
            "[1, 3, 4, 5, 7, 8, 9]\n",
            "[1, 3, 4, 5, 7, 8, 9]\n"
          ]
        }
      ]
    },
    {
      "cell_type": "code",
      "source": [
        "def MaxHeapify (array,len,i):\n",
        "  #print(array)\n",
        "  largest = i\n",
        "  left = 2*i+1\n",
        "  right = 2*i+2\n",
        "  if left < len and array[left] > array[largest]:\n",
        "    largest = left\n",
        "  if right < len and array[right] > array[largest]:\n",
        "    largest = right\n",
        "  \n",
        "  if i != largest:\n",
        "    array[largest], array[i] = array[i],array[largest]\n",
        "    MaxHeapify(array,len,largest)\n",
        "  #print(array)"
      ],
      "metadata": {
        "id": "_-D0h70S8dGN"
      },
      "execution_count": null,
      "outputs": []
    },
    {
      "cell_type": "code",
      "source": [
        "def HeapSort (array): \n",
        "  for i in range((len(array)//2)-1,-1,-1):\n",
        "    MaxHeapify(array,len(array),i)\n",
        "  #print(array)\n",
        "  for j in range (len(array)-1,0,-1):\n",
        "    array[j],array[0] = array[0],array[j]\n",
        "    print('iter:%s'%array)\n",
        "    #print(array[0:Len])\n",
        "    MaxHeapify(array,j,0)\n",
        "    #print(array[0:Len])\n",
        "    #print(MaxHeapify(array[0:Len],0))\n",
        "  return array\n"
      ],
      "metadata": {
        "id": "EBE0gRz8-nFx"
      },
      "execution_count": null,
      "outputs": []
    },
    {
      "cell_type": "code",
      "source": [
        "B =[3,7,4,1,9,8,5,11]\n",
        "B = HeapSort(B)\n",
        "print(B)"
      ],
      "metadata": {
        "colab": {
          "base_uri": "https://localhost:8080/"
        },
        "id": "seLAprGO_c3r",
        "outputId": "6864e04d-4b67-48bc-9a5e-0d1159501cd8"
      },
      "execution_count": null,
      "outputs": [
        {
          "output_type": "stream",
          "name": "stdout",
          "text": [
            "iter:[1, 9, 8, 7, 3, 4, 5, 11]\n",
            "iter:[5, 7, 8, 1, 3, 4, 9, 11]\n",
            "iter:[4, 7, 5, 1, 3, 8, 9, 11]\n",
            "iter:[3, 4, 5, 1, 7, 8, 9, 11]\n",
            "iter:[1, 4, 3, 5, 7, 8, 9, 11]\n",
            "iter:[3, 1, 4, 5, 7, 8, 9, 11]\n",
            "iter:[1, 3, 4, 5, 7, 8, 9, 11]\n",
            "[1, 3, 4, 5, 7, 8, 9, 11]\n"
          ]
        }
      ]
    }
  ]
}