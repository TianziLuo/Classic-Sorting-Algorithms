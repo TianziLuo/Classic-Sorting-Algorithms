{
  "nbformat": 4,
  "nbformat_minor": 0,
  "metadata": {
    "colab": {
      "provenance": [],
      "authorship_tag": "ABX9TyPfYUydFz4zxoBU+qc8Livi",
      "include_colab_link": true
    },
    "kernelspec": {
      "name": "python3",
      "display_name": "Python 3"
    },
    "language_info": {
      "name": "python"
    }
  },
  "cells": [
    {
      "cell_type": "markdown",
      "metadata": {
        "id": "view-in-github",
        "colab_type": "text"
      },
      "source": [
        "<a href=\"https://colab.research.google.com/github/TianziLuo/Classic-Sorting-Algorithms/blob/main/1_5_Merge_Sort.ipynb\" target=\"_parent\"><img src=\"https://colab.research.google.com/assets/colab-badge.svg\" alt=\"Open In Colab\"/></a>"
      ]
    },
    {
      "cell_type": "code",
      "execution_count": 22,
      "metadata": {
        "id": "xQFjr5NrDsUK"
      },
      "outputs": [],
      "source": [
        "A=[3,2,8,5,7,1,9,4,6]"
      ]
    },
    {
      "cell_type": "code",
      "source": [
        "def mergesort (A):\n",
        "  if len(A)<=1:\n",
        "    return A\n",
        "  middle = len(A)//2\n",
        "  left = A[0:middle]\n",
        "  right = A[middle:]\n",
        "  return merge(mergesort(left),mergesort(right))"
      ],
      "metadata": {
        "id": "fi9mFD7QEhWq"
      },
      "execution_count": 23,
      "outputs": []
    },
    {
      "cell_type": "code",
      "source": [
        "def merge(left,right):\n",
        "  result = []\n",
        "  while left and right:\n",
        "    if left[0]<right[0]:\n",
        "      result.append(left.pop(0))\n",
        "      #left = left.pop(0)\n",
        "    else:\n",
        "      result.append(right.pop(0))\n",
        "      #right = right.pop(0)\n",
        "  while left:\n",
        "    result.append(left.pop(0))\n",
        "    #left = left.pop(0)\n",
        "  while right:\n",
        "    result.append(right.pop(0))\n",
        "    #right = right.pop(0) \n",
        "  return result  "
      ],
      "metadata": {
        "id": "Tczy4sDIHRPN"
      },
      "execution_count": 24,
      "outputs": []
    },
    {
      "cell_type": "code",
      "source": [
        "A = mergesort(A)\n",
        "print(A)"
      ],
      "metadata": {
        "colab": {
          "base_uri": "https://localhost:8080/"
        },
        "id": "h_v8AEK2LXDC",
        "outputId": "99972917-45b4-4b0d-8925-77e91378c8d9"
      },
      "execution_count": 25,
      "outputs": [
        {
          "output_type": "stream",
          "name": "stdout",
          "text": [
            "[1, 2, 3, 4, 5, 6, 7, 8, 9]\n"
          ]
        }
      ]
    },
    {
      "cell_type": "code",
      "source": [
        "print(type(A.pop(0)))"
      ],
      "metadata": {
        "colab": {
          "base_uri": "https://localhost:8080/"
        },
        "id": "EWNPOwRdNyVr",
        "outputId": "2dcc163f-b6b1-4901-e101-879272828739"
      },
      "execution_count": 26,
      "outputs": [
        {
          "output_type": "stream",
          "name": "stdout",
          "text": [
            "<class 'int'>\n"
          ]
        }
      ]
    },
    {
      "cell_type": "code",
      "source": [
        "A.append('list')\n",
        "#print(A)"
      ],
      "metadata": {
        "id": "CceHDZLEOjZ8"
      },
      "execution_count": null,
      "outputs": []
    }
  ]
}